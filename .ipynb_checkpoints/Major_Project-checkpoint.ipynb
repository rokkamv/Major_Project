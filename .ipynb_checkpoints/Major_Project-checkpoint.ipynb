{
 "cells": [
  {
   "cell_type": "code",
   "execution_count": 1,
   "metadata": {},
   "outputs": [],
   "source": [
    "import pandas as pd"
   ]
  },
  {
   "cell_type": "code",
   "execution_count": 5,
   "metadata": {},
   "outputs": [],
   "source": [
    "colTask = ['create_timestamp', 'modify_timestamp', 'job_id', 'task_id', 'instance_num', 'status', \n",
    "           'plan_cpu', 'plan_mem']\n",
    "\n",
    "colInstance = ['start_timestamp', 'end_timestamp', 'job_id', 'task_id', 'machineID', 'status', 'seq_no', \n",
    "               'total_seq_no', 'real_cpu_max', 'real_cpu_avg', 'real_mem_max', 'real_mem_avg']\n",
    "\n",
    "\n",
    "\n",
    "batchTask = pd.read_csv('batch_task.csv', names=colTask, header=None)\n",
    "batchInstance = pd.read_csv('batch_instance.csv', names=colInstance, header=None)\n",
    "\n",
    "\n",
    "# print(batchInstance['task_id'].value_counts())\n",
    "\n",
    "#print(batchInstance.groupby('task_id')['real_cpu_max'].max())"
   ]
  },
  {
   "cell_type": "code",
   "execution_count": 70,
   "metadata": {},
   "outputs": [
    {
     "name": "stdout",
     "output_type": "stream",
     "text": [
      "        real_cpu_max                 real_cpu_avg               \n",
      "                 min   max       sum          min   max      sum\n",
      "task_id                                                         \n",
      "1.0             0.92  2.00    277.12         0.72  0.82   219.35\n",
      "2.0             0.16  3.00  14548.89         0.04  1.04  6025.08\n",
      "3.0             1.16  1.16      1.16         0.89  0.89     0.89\n",
      "4.0             0.32  3.00  14578.45         0.04  1.00  5275.70\n",
      "5.0             1.95  1.95      1.95         1.26  1.26     1.26\n"
     ]
    }
   ],
   "source": [
    "print(batchInstance.groupby(\n",
    "   ('task_id')\n",
    ").agg(\n",
    "    {\n",
    "         'real_cpu_max': [min, max, sum],    # Sum duration per group\n",
    "         'real_cpu_avg': [min, max, sum],  # get the count of networks\n",
    "    }\n",
    ").head())\n",
    "\n",
    "#print(batchInstance.groupby('task_id')['real_mem_max'].max())\n"
   ]
  },
  {
   "cell_type": "code",
   "execution_count": 22,
   "metadata": {},
   "outputs": [
    {
     "name": "stdout",
     "output_type": "stream",
     "text": [
      "         real_cpu_max\n",
      "task_id              \n",
      "1.0              2.00\n",
      "2.0              3.00\n",
      "3.0              1.16\n",
      "4.0              3.00\n",
      "5.0              1.95\n"
     ]
    }
   ],
   "source": [
    "instanceTable = batchInstance.groupby(\n",
    "   ('task_id')\n",
    ").agg(\n",
    "    {\n",
    "         'real_cpu_max': max\n",
    "  }\n",
    ")\n",
    "print(instanceTable.head())\n",
    "\n",
    "#print(batchInstance.groupby('task_id')['real_mem_max'].max())\n",
    "# print(batchTask['task_id'])"
   ]
  },
  {
   "cell_type": "code",
   "execution_count": 23,
   "metadata": {},
   "outputs": [
    {
     "name": "stdout",
     "output_type": "stream",
     "text": [
      "   task_id  real_cpu_max  plan_cpu  plan_mem\n",
      "0      1.0          2.00     100.0  0.005405\n",
      "1      2.0          3.00      50.0  0.007947\n",
      "2      3.0          1.16      50.0  0.004385\n",
      "3      4.0          3.00      50.0  0.007957\n",
      "4      5.0          1.95      50.0  0.004395\n"
     ]
    }
   ],
   "source": [
    "merge_task_instance = pd.merge(instanceTable,\n",
    "                 batchTask[['task_id', 'plan_cpu', 'plan_mem']],\n",
    "                 on='task_id')\n",
    "print(merge_task_instance.head())"
   ]
  },
  {
   "cell_type": "code",
   "execution_count": 44,
   "metadata": {},
   "outputs": [
    {
     "data": {
      "text/html": [
       "<div>\n",
       "<style scoped>\n",
       "    .dataframe tbody tr th:only-of-type {\n",
       "        vertical-align: middle;\n",
       "    }\n",
       "\n",
       "    .dataframe tbody tr th {\n",
       "        vertical-align: top;\n",
       "    }\n",
       "\n",
       "    .dataframe thead th {\n",
       "        text-align: right;\n",
       "    }\n",
       "</style>\n",
       "<table border=\"1\" class=\"dataframe\">\n",
       "  <thead>\n",
       "    <tr style=\"text-align: right;\">\n",
       "      <th></th>\n",
       "      <th>plan_cpu</th>\n",
       "      <th>task_id</th>\n",
       "      <th>real_cpu_max</th>\n",
       "      <th>plan_mem</th>\n",
       "    </tr>\n",
       "  </thead>\n",
       "  <tbody>\n",
       "    <tr>\n",
       "      <th>0</th>\n",
       "      <td>40.0</td>\n",
       "      <td>71143.0</td>\n",
       "      <td>12.33</td>\n",
       "      <td>0.016007</td>\n",
       "    </tr>\n",
       "    <tr>\n",
       "      <th>1</th>\n",
       "      <td>50.0</td>\n",
       "      <td>80553.0</td>\n",
       "      <td>31.00</td>\n",
       "      <td>0.127332</td>\n",
       "    </tr>\n",
       "    <tr>\n",
       "      <th>2</th>\n",
       "      <td>55.0</td>\n",
       "      <td>66608.0</td>\n",
       "      <td>14.00</td>\n",
       "      <td>0.021308</td>\n",
       "    </tr>\n",
       "    <tr>\n",
       "      <th>3</th>\n",
       "      <td>60.0</td>\n",
       "      <td>66615.0</td>\n",
       "      <td>8.11</td>\n",
       "      <td>0.021308</td>\n",
       "    </tr>\n",
       "    <tr>\n",
       "      <th>4</th>\n",
       "      <td>65.0</td>\n",
       "      <td>75434.0</td>\n",
       "      <td>15.00</td>\n",
       "      <td>0.021308</td>\n",
       "    </tr>\n",
       "    <tr>\n",
       "      <th>5</th>\n",
       "      <td>70.0</td>\n",
       "      <td>75435.0</td>\n",
       "      <td>8.11</td>\n",
       "      <td>0.021308</td>\n",
       "    </tr>\n",
       "    <tr>\n",
       "      <th>6</th>\n",
       "      <td>75.0</td>\n",
       "      <td>75437.0</td>\n",
       "      <td>14.00</td>\n",
       "      <td>0.021308</td>\n",
       "    </tr>\n",
       "    <tr>\n",
       "      <th>7</th>\n",
       "      <td>100.0</td>\n",
       "      <td>80415.0</td>\n",
       "      <td>18.00</td>\n",
       "      <td>0.074320</td>\n",
       "    </tr>\n",
       "    <tr>\n",
       "      <th>8</th>\n",
       "      <td>200.0</td>\n",
       "      <td>70711.0</td>\n",
       "      <td>3.00</td>\n",
       "      <td>0.026609</td>\n",
       "    </tr>\n",
       "    <tr>\n",
       "      <th>9</th>\n",
       "      <td>300.0</td>\n",
       "      <td>69625.0</td>\n",
       "      <td>6.28</td>\n",
       "      <td>0.010706</td>\n",
       "    </tr>\n",
       "    <tr>\n",
       "      <th>10</th>\n",
       "      <td>400.0</td>\n",
       "      <td>66497.0</td>\n",
       "      <td>1.98</td>\n",
       "      <td>0.016007</td>\n",
       "    </tr>\n",
       "    <tr>\n",
       "      <th>11</th>\n",
       "      <td>600.0</td>\n",
       "      <td>37144.0</td>\n",
       "      <td>2.00</td>\n",
       "      <td>0.053115</td>\n",
       "    </tr>\n",
       "    <tr>\n",
       "      <th>12</th>\n",
       "      <td>800.0</td>\n",
       "      <td>9801.0</td>\n",
       "      <td>2.00</td>\n",
       "      <td>0.064049</td>\n",
       "    </tr>\n",
       "  </tbody>\n",
       "</table>\n",
       "</div>"
      ],
      "text/plain": [
       "    plan_cpu  task_id  real_cpu_max  plan_mem\n",
       "0       40.0  71143.0         12.33  0.016007\n",
       "1       50.0  80553.0         31.00  0.127332\n",
       "2       55.0  66608.0         14.00  0.021308\n",
       "3       60.0  66615.0          8.11  0.021308\n",
       "4       65.0  75434.0         15.00  0.021308\n",
       "5       70.0  75435.0          8.11  0.021308\n",
       "6       75.0  75437.0         14.00  0.021308\n",
       "7      100.0  80415.0         18.00  0.074320\n",
       "8      200.0  70711.0          3.00  0.026609\n",
       "9      300.0  69625.0          6.28  0.010706\n",
       "10     400.0  66497.0          1.98  0.016007\n",
       "11     600.0  37144.0          2.00  0.053115\n",
       "12     800.0   9801.0          2.00  0.064049"
      ]
     },
     "execution_count": 44,
     "metadata": {},
     "output_type": "execute_result"
    }
   ],
   "source": [
    "#Grouped by plan_cpu and the maximum of real_cpu_max among all the task_ids\n",
    "#having same plan_cpu value\n",
    "\n",
    "result= merge_task_instance.groupby(['plan_cpu'],as_index=False).max() \n",
    "result"
   ]
  },
  {
   "cell_type": "code",
   "execution_count": 74,
   "metadata": {},
   "outputs": [
    {
     "data": {
      "image/png": "[encoded data removed]",
      "text/plain": [
       "<Figure size 720x360 with 1 Axes>"
      ]
     },
     "metadata": {
      "needs_background": "light"
     },
     "output_type": "display_data"
    }
   ],
   "source": [
    "import matplotlib.pyplot as plt\n",
    "import numpy as np\n",
    "\n",
    "plt.figure(figsize=(10,5))\n",
    "x=result['plan_cpu']\n",
    "y=result['real_cpu_max']\n",
    "\n",
    "index=np.arange(len(x))\n",
    "# plt.plot(x,y)\n",
    "plt.bar(index,y,width=0.8)\n",
    "\n",
    "plt.xlabel('Requested/Allocated CPU',fontsize=20)\n",
    "plt.ylabel('Actual Max CPU Usage',fontsize=20)\n",
    "plt.xticks(index,x,fontsize=10,rotation=30)\n",
    "plt.yticks(fontsize=10)\n",
    "\n",
    "plt.title(\"plan_cpu vs real_cpu_max\",fontsize=25)\n",
    "\n",
    "plt.show() "
   ]
  },
  {
   "cell_type": "code",
   "execution_count": null,
   "metadata": {},
   "outputs": [],
   "source": []
  }
 ],
 "metadata": {
  "kernelspec": {
   "display_name": "Python 3",
   "language": "python",
   "name": "python3"
  },
  "language_info": {
   "codemirror_mode": {
    "name": "ipython",
    "version": 3
   },
   "file_extension": ".py",
   "mimetype": "text/x-python",
   "name": "python",
   "nbconvert_exporter": "python",
   "pygments_lexer": "ipython3",
   "version": "3.7.3"
  }
 },
 "nbformat": 4,
 "nbformat_minor": 2
}
